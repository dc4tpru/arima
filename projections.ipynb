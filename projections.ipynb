{
 "cells": [
  {
   "cell_type": "markdown",
   "metadata": {},
   "source": [
    "The codes given below may be helpful for learning how to apply ARIMA function on a data-table and for making predictions based on the same. Here, the numbers of new patients added every day(till may-02,2020) in India has been used for running these codes. The codes for visualisation have also been written for getting a visual sense of data and the predictions. Three different models have been created in this file and you may create even more number of the same. Finally, the selection of the best model has been left for the readers. "
   ]
  },
  {
   "cell_type": "markdown",
   "metadata": {},
   "source": [
    "The data has been collected from this website:\n",
    "https://www.worldometers.info/coronavirus/country/india/"
   ]
  },
  {
   "cell_type": "code",
   "execution_count": null,
   "metadata": {},
   "outputs": [],
   "source": [
    "##########################################################################################"
   ]
  },
  {
   "cell_type": "code",
   "execution_count": null,
   "metadata": {},
   "outputs": [],
   "source": [
    "#importing libraries\n",
    "import pandas as pd\n",
    "import numpy as np\n",
    "import matplotlib.pyplot as plt\n",
    "import seaborn as sns\n",
    "%matplotlib inline"
   ]
  },
  {
   "cell_type": "code",
   "execution_count": null,
   "metadata": {},
   "outputs": [],
   "source": [
    "import warnings\n",
    "warnings.filterwarnings('ignore')"
   ]
  },
  {
   "cell_type": "code",
   "execution_count": null,
   "metadata": {},
   "outputs": [],
   "source": [
    "# Read data from the csv file\n",
    "data = pd.read_excel('covid_data.xlsx')"
   ]
  },
  {
   "cell_type": "code",
   "execution_count": null,
   "metadata": {},
   "outputs": [],
   "source": [
    "data.head()"
   ]
  },
  {
   "cell_type": "code",
   "execution_count": null,
   "metadata": {},
   "outputs": [],
   "source": [
    "data.columns"
   ]
  },
  {
   "cell_type": "code",
   "execution_count": null,
   "metadata": {},
   "outputs": [],
   "source": [
    "# creating datetime stamps to make predictions with date index\n",
    "data['date'] = pd.to_datetime(data['date'], format = '%Y-%m-%d')"
   ]
  },
  {
   "cell_type": "code",
   "execution_count": null,
   "metadata": {},
   "outputs": [],
   "source": [
    "data = pd.DataFrame(data)"
   ]
  },
  {
   "cell_type": "code",
   "execution_count": null,
   "metadata": {},
   "outputs": [],
   "source": [
    "data = data.set_index('date')"
   ]
  },
  {
   "cell_type": "code",
   "execution_count": null,
   "metadata": {},
   "outputs": [],
   "source": [
    "data.sort_index()"
   ]
  },
  {
   "cell_type": "code",
   "execution_count": null,
   "metadata": {},
   "outputs": [],
   "source": [
    "data.head(2)"
   ]
  },
  {
   "cell_type": "code",
   "execution_count": null,
   "metadata": {},
   "outputs": [],
   "source": [
    "# data visualisation in a line plot \n",
    "data.plot(figsize = (12, 4))\n",
    "plt.legend(loc = 'best')\n",
    "plt.title('New Patient Data')\n",
    "plt.show(block = False)"
   ]
  },
  {
   "cell_type": "code",
   "execution_count": null,
   "metadata": {},
   "outputs": [],
   "source": [
    "# data visualisation in a boxplot to check if there are outliers\n",
    "fig = plt.subplots(figsize = (12,2))\n",
    "ax = sns.boxplot(x = data['new_patients'], whis = 1.5)"
   ]
  },
  {
   "cell_type": "code",
   "execution_count": null,
   "metadata": {},
   "outputs": [],
   "source": [
    "# data visualisation in a histogram\n",
    "fig = data.new_patients.hist(figsize = (12,4))"
   ]
  },
  {
   "cell_type": "code",
   "execution_count": null,
   "metadata": {},
   "outputs": [],
   "source": [
    "# splitting data in trining and test data set and leaving last empty rows for only forecast"
   ]
  },
  {
   "cell_type": "code",
   "execution_count": null,
   "metadata": {},
   "outputs": [],
   "source": [
    "train_len = 40\n",
    "test_len = 49\n",
    "train = data[0:train_len]\n",
    "test = data[train_len:test_len]\n",
    "test_all = data[train_len:]\n",
    "data_avail = data[:test_len]"
   ]
  },
  {
   "cell_type": "code",
   "execution_count": null,
   "metadata": {},
   "outputs": [],
   "source": [
    "# importing libraries for adfuller test to check stationarity\n",
    "from statsmodels.tsa.stattools import adfuller"
   ]
  },
  {
   "cell_type": "code",
   "execution_count": null,
   "metadata": {},
   "outputs": [],
   "source": [
    "adf_test = adfuller(data_avail['new_patients'])\n",
    "print('ADF Statistics: %f' % adf_test[0])\n",
    "print('Critical Value @ 0.05: %.2f' % adf_test[4]['5%'])\n",
    "print('p-value: %f' % adf_test[1])"
   ]
  },
  {
   "cell_type": "code",
   "execution_count": null,
   "metadata": {},
   "outputs": [],
   "source": [
    "# importing libraries for kpss test to check stationarity\n",
    "from statsmodels.tsa.stattools import kpss"
   ]
  },
  {
   "cell_type": "code",
   "execution_count": null,
   "metadata": {},
   "outputs": [],
   "source": [
    "kpss_test = kpss(data['new_patients'])\n",
    "#print('KPSS Statistics: %f' % kpss_test[0])\n",
    "print('Critical Value @ 0.05: %.2f' % kpss_test[3]['5%'])\n",
    "#print('p-value: %f' % kpss_test[1])"
   ]
  },
  {
   "cell_type": "code",
   "execution_count": null,
   "metadata": {},
   "outputs": [],
   "source": [
    "### so data is not stationary"
   ]
  },
  {
   "cell_type": "code",
   "execution_count": null,
   "metadata": {},
   "outputs": [],
   "source": [
    "# boxcox transformation and differencing to make the data set stationary\n",
    "from scipy.stats import boxcox"
   ]
  },
  {
   "cell_type": "code",
   "execution_count": null,
   "metadata": {},
   "outputs": [],
   "source": [
    "data_boxcox = pd.Series(boxcox(data['new_patients'], lmbda = 0),\n",
    "                        index = data.index)"
   ]
  },
  {
   "cell_type": "code",
   "execution_count": null,
   "metadata": {},
   "outputs": [],
   "source": [
    "plt.figure(figsize=(12,4))\n",
    "plt.plot(data_boxcox, label = 'After box cox transformation')\n",
    "plt.legend(loc='best')\n",
    "plt.title('After box cox transformation')\n",
    "plt.show()"
   ]
  },
  {
   "cell_type": "code",
   "execution_count": null,
   "metadata": {},
   "outputs": [],
   "source": [
    "# Differencing"
   ]
  },
  {
   "cell_type": "code",
   "execution_count": null,
   "metadata": {},
   "outputs": [],
   "source": [
    "data_boxcox_diff = pd.Series(data_boxcox - data_boxcox.shift(),\n",
    "                             index = data.index)\n",
    "data_boxcox_diff.dropna(inplace = True)"
   ]
  },
  {
   "cell_type": "code",
   "execution_count": null,
   "metadata": {},
   "outputs": [],
   "source": [
    "train_data_boxcox = data_boxcox[:train_len]\n",
    "test_data_boxcox = data_boxcox[train_len:test_len]\n",
    "train_data_boxcox_diff = data_boxcox_diff[:train_len-1]\n",
    "test_data_boxcox_diff = data_boxcox_diff[train_len-1:test_len]"
   ]
  },
  {
   "cell_type": "code",
   "execution_count": null,
   "metadata": {},
   "outputs": [],
   "source": [
    "# visualisation in line plot after boxcox transformation  and differencing\n",
    "plt.figure(figsize=(12,4))\n",
    "plt.plot(data_boxcox_diff, label = 'After box cox transformation and differencing')\n",
    "plt.legend(loc='best')\n",
    "plt.title('After box cox transformation and differencing')\n",
    "plt.show()"
   ]
  },
  {
   "cell_type": "code",
   "execution_count": null,
   "metadata": {},
   "outputs": [],
   "source": [
    "# adf and kpss tests after transformation\n",
    "adf_test = adfuller(data_boxcox_diff)\n",
    "print('ADF Statistics: %f' % adf_test[0])\n",
    "print('Critical Value @ 0.05: %.2f' % adf_test[4]['5%'])\n",
    "print('p-value: %f' % adf_test[1])"
   ]
  },
  {
   "cell_type": "code",
   "execution_count": null,
   "metadata": {},
   "outputs": [],
   "source": [
    "kpss_test = kpss(data['new_patients'])\n",
    "#print('KPSS Statistics: %f' % kpss_test[0])\n",
    "print('Critical Value @ 0.05: %.2f' % kpss_test[3]['5%'])\n",
    "#print('p-value: %f' % kpss_test[1])"
   ]
  },
  {
   "cell_type": "code",
   "execution_count": null,
   "metadata": {},
   "outputs": [],
   "source": [
    "# ACF and PACF plots for finding p and q for ARIMA model"
   ]
  },
  {
   "cell_type": "code",
   "execution_count": null,
   "metadata": {},
   "outputs": [],
   "source": [
    "from statsmodels.graphics.tsaplots import plot_acf"
   ]
  },
  {
   "cell_type": "code",
   "execution_count": null,
   "metadata": {},
   "outputs": [],
   "source": [
    "plt.figure(figsize=(12,4))\n",
    "plot_acf(data_boxcox_diff, ax = plt.gca(), lags = 30)\n",
    "plt.show()"
   ]
  },
  {
   "cell_type": "code",
   "execution_count": null,
   "metadata": {},
   "outputs": [],
   "source": [
    "from statsmodels.graphics.tsaplots import plot_pacf"
   ]
  },
  {
   "cell_type": "code",
   "execution_count": null,
   "metadata": {},
   "outputs": [],
   "source": [
    "plt.figure(figsize=(12,4))\n",
    "plot_pacf(data_boxcox_diff, ax = plt.gca(), lags = 30)\n",
    "plt.show()"
   ]
  },
  {
   "cell_type": "code",
   "execution_count": null,
   "metadata": {},
   "outputs": [],
   "source": [
    "#############"
   ]
  },
  {
   "cell_type": "code",
   "execution_count": null,
   "metadata": {},
   "outputs": [],
   "source": [
    "# AR models"
   ]
  },
  {
   "cell_type": "code",
   "execution_count": null,
   "metadata": {},
   "outputs": [],
   "source": [
    "# importing ARIMA libraries\n",
    "from statsmodels.tsa.arima_model import ARIMA"
   ]
  },
  {
   "cell_type": "code",
   "execution_count": null,
   "metadata": {},
   "outputs": [],
   "source": [
    "model = ARIMA(train_data_boxcox_diff, order = (10,0,0))\n",
    "model_fit = model.fit()\n",
    "print(model_fit.params)"
   ]
  },
  {
   "cell_type": "code",
   "execution_count": null,
   "metadata": {},
   "outputs": [],
   "source": [
    "#  predictions based on model"
   ]
  },
  {
   "cell_type": "code",
   "execution_count": null,
   "metadata": {},
   "outputs": [],
   "source": [
    "y_hat_ar = data_boxcox_diff.copy()\n",
    "y_hat_ar['ar_forecast_boxcox_diff'] = model_fit.predict(data_boxcox_diff.index.min(), \n",
    "                                                       data_boxcox_diff.index.max())\n",
    "y_hat_ar['ar_forecast_boxcox'] = y_hat_ar['ar_forecast_boxcox_diff'].cumsum()\n",
    "y_hat_ar['ar_forecast_boxcox'] = y_hat_ar['ar_forecast_boxcox'].add(data_boxcox[0])\n",
    "y_hat_ar['ar_forecast'] = np.exp(y_hat_ar['ar_forecast_boxcox'])"
   ]
  },
  {
   "cell_type": "code",
   "execution_count": null,
   "metadata": {},
   "outputs": [],
   "source": [
    "# visualisation of training data, test data, and predictions\n",
    "plt.figure(figsize=(12,4))\n",
    "plt.plot(train['new_patients'], label = 'Train')\n",
    "plt.plot(test['new_patients'], label = 'Test')\n",
    "plt.plot(y_hat_ar['ar_forecast'][test.index.min():], label = 'ar_forecast')\n",
    "plt.legend(loc='best')\n",
    "plt.title('AR Method')\n",
    "plt.show()"
   ]
  },
  {
   "cell_type": "code",
   "execution_count": null,
   "metadata": {},
   "outputs": [],
   "source": [
    "# checking mean squared error and MAPE for evaluation of the model\n",
    "from sklearn.metrics import mean_squared_error"
   ]
  },
  {
   "cell_type": "code",
   "execution_count": null,
   "metadata": {},
   "outputs": [],
   "source": [
    "rmse = np.sqrt(mean_squared_error(test['new_patients'], \n",
    "                        y_hat_ar['ar_forecast'][test.index.min():])).round(2)\n",
    "mape = np.round(np.mean(np.abs(test['new_patients'] - \n",
    "        y_hat_ar['ar_forecast'][test.index.min():])/ test['new_patients'])*100,2)\n",
    "results = pd.DataFrame({'Method' : ['Auto Regression'], 'MAPE' : [mape],\n",
    "                           'RMSE' : [rmse]})\n",
    "results1 = results[['Method', 'MAPE', 'RMSE']]\n",
    "results1"
   ]
  },
  {
   "cell_type": "code",
   "execution_count": null,
   "metadata": {},
   "outputs": [],
   "source": [
    "# creating holt winters additive model\n",
    "from statsmodels.tsa.holtwinters import ExponentialSmoothing"
   ]
  },
  {
   "cell_type": "code",
   "execution_count": null,
   "metadata": {},
   "outputs": [],
   "source": [
    "y_hat_hwa= test_all.copy()"
   ]
  },
  {
   "cell_type": "code",
   "execution_count": null,
   "metadata": {},
   "outputs": [],
   "source": [
    "model = ExponentialSmoothing(np.asarray(train['new_patients']),\n",
    "                                seasonal_periods = 7, trend = 'add', seasonal = 'add')\n",
    "model_fit_hwa = model.fit(optimized = True)\n",
    "print(model_fit_hwa.params)"
   ]
  },
  {
   "cell_type": "code",
   "execution_count": null,
   "metadata": {},
   "outputs": [],
   "source": [
    "# making predictions\n",
    "y_hat_hwa['hwa_forecast'] = model_fit_hwa.forecast(17)"
   ]
  },
  {
   "cell_type": "code",
   "execution_count": null,
   "metadata": {},
   "outputs": [],
   "source": [
    "# visualisation of training data, test data, and predictions\n",
    "plt.figure(figsize=(12,4))\n",
    "plt.plot(train['new_patients'], label = 'Train')\n",
    "plt.plot(test['new_patients'], label = 'Test')\n",
    "plt.plot(y_hat_hwa['hwa_forecast'][test.index.min():test.index.max()], label = 'Holt Winters Additive Forecast')\n",
    "plt.legend(loc='best')\n",
    "plt.title('Holt Winters Additive Method')\n",
    "plt.show()"
   ]
  },
  {
   "cell_type": "code",
   "execution_count": null,
   "metadata": {},
   "outputs": [],
   "source": [
    "# checking mean squared error and MAPE for evaluation of the model\n",
    "rmse = np.sqrt(mean_squared_error(test['new_patients'], \n",
    "                                  y_hat_hwa['hwa_forecast'][test.index.min():test.index.max()])).round(2)\n",
    "mape = np.round(np.mean(np.abs(test_all['new_patients'] - \n",
    "                            y_hat_hwa['hwa_forecast'])/ \n",
    "                            test_all['new_patients'])*100,2)\n",
    "results2 = pd.DataFrame({'Method' : ['Holt Winters Additive Method'],\n",
    "                             'MAPE' : [mape],'RMSE' : [rmse]})\n",
    "results2"
   ]
  },
  {
   "cell_type": "code",
   "execution_count": null,
   "metadata": {},
   "outputs": [],
   "source": [
    "# creating ARIMA model with seasonaltity\n",
    "from statsmodels.tsa.statespace.sarimax import SARIMAX"
   ]
  },
  {
   "cell_type": "code",
   "execution_count": null,
   "metadata": {},
   "outputs": [],
   "source": [
    "model = SARIMAX(train_data_boxcox, order = (1,1,1), seasonal_order = (1,1,1,5))\n",
    "model_fit = model.fit()\n",
    "print(model_fit.params)"
   ]
  },
  {
   "cell_type": "code",
   "execution_count": null,
   "metadata": {},
   "outputs": [],
   "source": [
    "# making predictions\n",
    "y_hat_sarimax = data_boxcox_diff.copy()\n",
    "y_hat_sarimax['sarimax_forecast_boxcox'] = model_fit.predict(data.index.min(),data.index.max())\n",
    "y_hat_sarimax['sarimax_forecast'] = np.exp(y_hat_sarimax['sarimax_forecast_boxcox'])"
   ]
  },
  {
   "cell_type": "code",
   "execution_count": null,
   "metadata": {},
   "outputs": [],
   "source": [
    "# visualisation of training data, test data, and predictions\n",
    "plt.figure(figsize=(12,4))\n",
    "plt.plot(train['new_patients'], label = 'Train')\n",
    "plt.plot(test['new_patients'], label = 'Test')\n",
    "plt.plot(y_hat_sarimax['sarimax_forecast'][test.index.min():test.index.max()], label = 'sarimax_forecast')\n",
    "plt.legend(loc='best')\n",
    "plt.title('SARIMAX Method')\n",
    "plt.show()"
   ]
  },
  {
   "cell_type": "code",
   "execution_count": null,
   "metadata": {},
   "outputs": [],
   "source": [
    "# checking mean squared error and MAPE for evaluation of the model\n",
    "rmse = np.sqrt(mean_squared_error(test['new_patients'], \n",
    "                        y_hat_sarimax['sarimax_forecast'][test.index.min():test.index.max()])).round(2)\n",
    "mape = np.round(np.mean(np.abs(test['new_patients'] - \n",
    "        y_hat_sarimax['sarimax_forecast'][test.index.min():])/ test['new_patients'])*100,2)\n",
    "results = pd.DataFrame({'Method' : ['Seasonal Auto Regressive Integrated Moving Average'], 'MAPE' : [mape],\n",
    "                           'RMSE' : [rmse]})\n",
    "results3 = results[['Method', 'MAPE', 'RMSE']]\n",
    "results3"
   ]
  },
  {
   "cell_type": "code",
   "execution_count": null,
   "metadata": {},
   "outputs": [],
   "source": [
    "# comparison of all the 3 models \n",
    "results = pd.concat([results1, results2, results3])\n",
    "results"
   ]
  },
  {
   "cell_type": "code",
   "execution_count": null,
   "metadata": {},
   "outputs": [],
   "source": [
    "# making one data table with original data and predictions\n",
    "data_project = pd.concat([data,y_hat_ar['ar_forecast'],y_hat_hwa['hwa_forecast'],y_hat_sarimax['sarimax_forecast']], axis = 1)\n",
    "data_project.columns = ['new_patients','ar_forecast','hwa_forecast','sarimax_forecast']\n",
    "data_project"
   ]
  },
  {
   "cell_type": "code",
   "execution_count": null,
   "metadata": {},
   "outputs": [],
   "source": [
    "# to continue with the projections further, the data table may be updated with number of patients, and \n",
    "# the test may be increased simultaneously"
   ]
  }
 ],
 "metadata": {
  "kernelspec": {
   "display_name": "Python 3",
   "language": "python",
   "name": "python3"
  },
  "language_info": {
   "codemirror_mode": {
    "name": "ipython",
    "version": 3
   },
   "file_extension": ".py",
   "mimetype": "text/x-python",
   "name": "python",
   "nbconvert_exporter": "python",
   "pygments_lexer": "ipython3",
   "version": "3.7.4"
  }
 },
 "nbformat": 4,
 "nbformat_minor": 4
}
